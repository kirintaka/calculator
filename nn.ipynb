{
 "cells": [
  {
   "cell_type": "code",
   "execution_count": 1,
   "metadata": {},
   "outputs": [],
   "source": [
    "from torch import nn"
   ]
  },
  {
   "cell_type": "code",
   "execution_count": 2,
   "metadata": {},
   "outputs": [],
   "source": [
    "model = nn.Sequential(\n",
    "          nn.Linear(in_features=4, out_features=10),\n",
    "          nn.ReLU(),\n",
    "          nn.Linear(in_features=10, out_features=1),\n",
    "          nn.ReLU()\n",
    "        )"
   ]
  },
  {
   "cell_type": "code",
   "execution_count": 4,
   "metadata": {},
   "outputs": [
    {
     "ename": "TypeError",
     "evalue": "only length-1 arrays can be converted to Python scalars",
     "output_type": "error",
     "traceback": [
      "\u001b[0;31m---------------------------------------------------------------------------\u001b[0m",
      "\u001b[0;31mTypeError\u001b[0m                                 Traceback (most recent call last)",
      "\u001b[1;32m/Users/naitaka/Documents/бгу/баровик/лаба/nn.ipynb Ячейка 3\u001b[0m line \u001b[0;36m1\n\u001b[1;32m     <a href='vscode-notebook-cell:/Users/naitaka/Documents/%D0%B1%D0%B3%D1%83/%D0%B1%D0%B0%D1%80%D0%BE%D0%B2%D0%B8%D0%BA/%D0%BB%D0%B0%D0%B1%D0%B0/nn.ipynb#W4sZmlsZQ%3D%3D?line=13'>14</a>\u001b[0m     trap_lengths[i] \u001b[39m=\u001b[39m [a, b, c, d]\n\u001b[1;32m     <a href='vscode-notebook-cell:/Users/naitaka/Documents/%D0%B1%D0%B3%D1%83/%D0%B1%D0%B0%D1%80%D0%BE%D0%B2%D0%B8%D0%BA/%D0%BB%D0%B0%D0%B1%D0%B0/nn.ipynb#W4sZmlsZQ%3D%3D?line=15'>16</a>\u001b[0m \u001b[39m# Генерация второго массива (размер 20x1) на основе площадей трапеций из первого массива\u001b[39;00m\n\u001b[0;32m---> <a href='vscode-notebook-cell:/Users/naitaka/Documents/%D0%B1%D0%B3%D1%83/%D0%B1%D0%B0%D1%80%D0%BE%D0%B2%D0%B8%D0%BA/%D0%BB%D0%B0%D0%B1%D0%B0/nn.ipynb#W4sZmlsZQ%3D%3D?line=16'>17</a>\u001b[0m trap_areas \u001b[39m=\u001b[39m \u001b[39mint\u001b[39;49m(\u001b[39m0.5\u001b[39;49m \u001b[39m*\u001b[39;49m (trap_lengths[:, \u001b[39m0\u001b[39;49m] \u001b[39m+\u001b[39;49m trap_lengths[:, \u001b[39m1\u001b[39;49m]) \u001b[39m*\u001b[39;49m trap_lengths[:, \u001b[39m3\u001b[39;49m])\n\u001b[1;32m     <a href='vscode-notebook-cell:/Users/naitaka/Documents/%D0%B1%D0%B3%D1%83/%D0%B1%D0%B0%D1%80%D0%BE%D0%B2%D0%B8%D0%BA/%D0%BB%D0%B0%D0%B1%D0%B0/nn.ipynb#W4sZmlsZQ%3D%3D?line=18'>19</a>\u001b[0m \u001b[39m# Вывод результатов\u001b[39;00m\n\u001b[1;32m     <a href='vscode-notebook-cell:/Users/naitaka/Documents/%D0%B1%D0%B3%D1%83/%D0%B1%D0%B0%D1%80%D0%BE%D0%B2%D0%B8%D0%BA/%D0%BB%D0%B0%D0%B1%D0%B0/nn.ipynb#W4sZmlsZQ%3D%3D?line=19'>20</a>\u001b[0m \u001b[39mprint\u001b[39m(\u001b[39m\"\u001b[39m\u001b[39mМассив длин сторон трапеции (размер 20x4):\u001b[39m\u001b[39m\"\u001b[39m)\n",
      "\u001b[0;31mTypeError\u001b[0m: only length-1 arrays can be converted to Python scalars"
     ]
    }
   ],
   "source": [
    "import numpy as np\n",
    "\n",
    "# Генерация первого массива (размер 20x4)\n",
    "trap_lengths = np.zeros((20, 4), dtype=int)\n",
    "\n",
    "for i in range(20):\n",
    "    # Генерация случайных чисел для длин сторон трапеции\n",
    "    a, b, c, d = np.random.randint(1, 10, size=4)\n",
    "    \n",
    "    # Гарантия, что сумма первых двух чисел больше третьего, а сумма последних двух больше третьего\n",
    "    while a + b <= c or c + d <= b:\n",
    "        a, b, c, d = np.random.randint(1, 10, size=4)\n",
    "\n",
    "    trap_lengths[i] = [a, b, c, d]\n",
    "\n",
    "# Генерация второго массива (размер 20x1) на основе площадей трапеций из первого массива\n",
    "trap_areas = 0.5 * (trap_lengths[:, 0] + trap_lengths[:, 1]) * trap_lengths[:, 3]\n",
    "\n",
    "# Вывод результатов\n",
    "print(\"Массив длин сторон трапеции (размер 20x4):\")\n",
    "print(trap_lengths)\n",
    "\n",
    "print(\"\\nМассив площадей трапеций (размер 20x1):\")\n",
    "print(trap_areas)\n"
   ]
  },
  {
   "cell_type": "code",
   "execution_count": null,
   "metadata": {},
   "outputs": [],
   "source": [
    "data = "
   ]
  },
  {
   "cell_type": "code",
   "execution_count": null,
   "metadata": {},
   "outputs": [],
   "source": [
    "t1 = nn.normalize(t, p=1.0, dim = 1)"
   ]
  }
 ],
 "metadata": {
  "kernelspec": {
   "display_name": "Python 3",
   "language": "python",
   "name": "python3"
  },
  "language_info": {
   "codemirror_mode": {
    "name": "ipython",
    "version": 3
   },
   "file_extension": ".py",
   "mimetype": "text/x-python",
   "name": "python",
   "nbconvert_exporter": "python",
   "pygments_lexer": "ipython3",
   "version": "3.11.6"
  }
 },
 "nbformat": 4,
 "nbformat_minor": 2
}
